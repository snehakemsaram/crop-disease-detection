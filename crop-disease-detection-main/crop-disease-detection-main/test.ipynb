{
 "cells": [
  {
   "cell_type": "code",
   "execution_count": 9,
   "metadata": {
    "executionInfo": {
     "elapsed": 4413,
     "status": "ok",
     "timestamp": 1747115371061,
     "user": {
      "displayName": "Goutam",
      "userId": "01809531300969818971"
     },
     "user_tz": -300
    },
    "id": "erqZ_PulPXX0"
   },
   "outputs": [],
   "source": [
    "import kagglehub\n",
    "vipoooool_new_plant_diseases_dataset_path = kagglehub.dataset_download('vipoooool/new-plant-diseases-dataset')"
   ]
  },
  {
   "cell_type": "code",
   "execution_count": 10,
   "metadata": {
    "executionInfo": {
     "elapsed": 24,
     "status": "ok",
     "timestamp": 1747115372847,
     "user": {
      "displayName": "Goutam",
      "userId": "01809531300969818971"
     },
     "user_tz": -300
    },
    "id": "yxe-j_Wnb7eo"
   },
   "outputs": [],
   "source": [
    "Root_dir = \"/kaggle/input/new-plant-diseases-dataset/New Plant Diseases Dataset(Augmented)/New Plant Diseases Dataset(Augmented)\"\n",
    "valid_dir = Root_dir + \"/valid\"\n",
    "test_dir = \"/kaggle/input/new-plant-diseases-dataset/test\""
   ]
  },
  {
   "cell_type": "code",
   "execution_count": 11,
   "metadata": {
    "colab": {
     "base_uri": "https://localhost:8080/"
    },
    "executionInfo": {
     "elapsed": 5178,
     "status": "ok",
     "timestamp": 1747115379160,
     "user": {
      "displayName": "Goutam",
      "userId": "01809531300969818971"
     },
     "user_tz": -300
    },
    "id": "Ao3cnwUgNvpA",
    "outputId": "4b4f248c-d6c7-49f1-bc84-f53ca988660f"
   },
   "outputs": [
    {
     "name": "stdout",
     "output_type": "stream",
     "text": [
      "Found 17572 files belonging to 38 classes.\n"
     ]
    }
   ],
   "source": [
    "import tensorflow as tf\n",
    "import numpy as np\n",
    "import os\n",
    "\n",
    "model = tf.keras.models.load_model('/content/drive/MyDrive/Colab-Notebooks/project/trained_plant_disease_model.keras')\n",
    "\n",
    "validation_set = tf.keras.utils.image_dataset_from_directory(\n",
    "    valid_dir,\n",
    "    labels=\"inferred\",\n",
    "    label_mode=\"categorical\",\n",
    "    batch_size=32,\n",
    "    image_size=(128, 128),\n",
    "    shuffle=False\n",
    ")\n"
   ]
  },
  {
   "cell_type": "code",
   "execution_count": 12,
   "metadata": {
    "colab": {
     "base_uri": "https://localhost:8080/"
    },
    "executionInfo": {
     "elapsed": 29,
     "status": "ok",
     "timestamp": 1747115382435,
     "user": {
      "displayName": "Goutam",
      "userId": "01809531300969818971"
     },
     "user_tz": -300
    },
    "id": "f5uxwURwSU1x",
    "outputId": "519336a4-8433-4378-a50e-b97b01cd8234"
   },
   "outputs": [
    {
     "name": "stdout",
     "output_type": "stream",
     "text": [
      "['Apple___Apple_scab', 'Apple___Black_rot', 'Apple___Cedar_apple_rust', 'Apple___healthy', 'Blueberry___healthy', 'Cherry_(including_sour)___Powdery_mildew', 'Cherry_(including_sour)___healthy', 'Corn_(maize)___Cercospora_leaf_spot Gray_leaf_spot', 'Corn_(maize)___Common_rust_', 'Corn_(maize)___Northern_Leaf_Blight', 'Corn_(maize)___healthy', 'Grape___Black_rot', 'Grape___Esca_(Black_Measles)', 'Grape___Leaf_blight_(Isariopsis_Leaf_Spot)', 'Grape___healthy', 'Orange___Haunglongbing_(Citrus_greening)', 'Peach___Bacterial_spot', 'Peach___healthy', 'Pepper,_bell___Bacterial_spot', 'Pepper,_bell___healthy', 'Potato___Early_blight', 'Potato___Late_blight', 'Potato___healthy', 'Raspberry___healthy', 'Soybean___healthy', 'Squash___Powdery_mildew', 'Strawberry___Leaf_scorch', 'Strawberry___healthy', 'Tomato___Bacterial_spot', 'Tomato___Early_blight', 'Tomato___Late_blight', 'Tomato___Leaf_Mold', 'Tomato___Septoria_leaf_spot', 'Tomato___Spider_mites Two-spotted_spider_mite', 'Tomato___Target_Spot', 'Tomato___Tomato_Yellow_Leaf_Curl_Virus', 'Tomato___Tomato_mosaic_virus', 'Tomato___healthy']\n"
     ]
    }
   ],
   "source": [
    "class_names = validation_set.class_names\n",
    "print(class_names)"
   ]
  },
  {
   "cell_type": "code",
   "execution_count": 14,
   "metadata": {
    "colab": {
     "base_uri": "https://localhost:8080/",
     "height": 1000,
     "output_embedded_package_id": "1Gwo_uRQ0R3y2PTmDKcECiNL-TRSKJvIG"
    },
    "executionInfo": {
     "elapsed": 10597,
     "status": "ok",
     "timestamp": 1747115409737,
     "user": {
      "displayName": "Goutam",
      "userId": "01809531300969818971"
     },
     "user_tz": -300
    },
    "id": "l6NBD5t6qFJD",
    "outputId": "c9a21ede-c15c-4693-8ade-39840844e0ae"
   },
   "outputs": [
    {
     "data": {
      "text/plain": [
       "Output hidden; open in https://colab.research.google.com to view."
      ]
     },
     "metadata": {},
     "output_type": "display_data"
    }
   ],
   "source": [
    "import cv2\n",
    "import matplotlib.pyplot as plt\n",
    "import glob\n",
    "\n",
    "# 1) Gather all test file paths:\n",
    "pattern = \"/kaggle/input/new-plant-diseases-dataset/test/test/*.JPG\"\n",
    "file_paths = sorted(glob.glob(pattern))\n",
    "print(file_paths)\n",
    "\n",
    "\n",
    "for image_path in file_paths:\n",
    "    # Load and display the image\n",
    "    img_bgr = cv2.imread(image_path)\n",
    "    img_rgb = cv2.cvtColor(img_bgr, cv2.COLOR_BGR2RGB)\n",
    "\n",
    "    # Preprocess for prediction\n",
    "    img = tf.keras.preprocessing.image.load_img(image_path, target_size=(128, 128))\n",
    "    input_arr = tf.keras.preprocessing.image.img_to_array(img)\n",
    "    input_arr = np.expand_dims(input_arr, axis=0)\n",
    "\n",
    "    # Predict\n",
    "    predictions = model.predict(input_arr)\n",
    "    result_index = np.argmax(predictions)\n",
    "    model_prediction = class_names[result_index]\n",
    "\n",
    "    # Visualize with title\n",
    "    plt.figure(figsize=(4, 4))\n",
    "    plt.imshow(img_rgb)\n",
    "    plt.title(f\"{image_path.split('/')[-1]}: {model_prediction}\")\n",
    "    plt.axis('off')\n",
    "    plt.show()"
   ]
  },
  {
   "cell_type": "code",
   "execution_count": 15,
   "metadata": {
    "colab": {
     "base_uri": "https://localhost:8080/"
    },
    "executionInfo": {
     "elapsed": 15,
     "status": "ok",
     "timestamp": 1747115409847,
     "user": {
      "displayName": "Goutam",
      "userId": "01809531300969818971"
     },
     "user_tz": -300
    },
    "id": "T7YbjrIHSPcw",
    "outputId": "c1597e4f-22de-4fc6-dff7-ee57c3e4b174"
   },
   "outputs": [
    {
     "name": "stdout",
     "output_type": "stream",
     "text": [
      "Found 33 files.\n"
     ]
    }
   ],
   "source": [
    "test_set = tf.keras.utils.image_dataset_from_directory(\n",
    "    '/kaggle/input/new-plant-diseases-dataset/test/test',\n",
    "    labels=None,       # unlabeled\n",
    "    label_mode=None,\n",
    "    batch_size=32,\n",
    "    image_size=(128, 128),\n",
    "    shuffle=False      # preserve file order\n",
    ")"
   ]
  },
  {
   "cell_type": "code",
   "execution_count": 16,
   "metadata": {
    "colab": {
     "base_uri": "https://localhost:8080/"
    },
    "executionInfo": {
     "elapsed": 2109,
     "status": "ok",
     "timestamp": 1747115411958,
     "user": {
      "displayName": "Goutam",
      "userId": "01809531300969818971"
     },
     "user_tz": -300
    },
    "id": "z-2CYLAcS4iz",
    "outputId": "639f8b1c-a66e-4543-c123-160bfcceaf55"
   },
   "outputs": [
    {
     "name": "stdout",
     "output_type": "stream",
     "text": [
      "\u001b[1m2/2\u001b[0m \u001b[32m━━━━━━━━━━━━━━━━━━━━\u001b[0m\u001b[37m\u001b[0m \u001b[1m1s\u001b[0m 17ms/step\n",
      "[[1.7313424e-08 6.1930599e-08 9.9929881e-01 ... 1.3428219e-08\n",
      "  1.8902942e-04 1.2504261e-08]\n",
      " [8.7205629e-09 5.4662858e-12 9.9329811e-01 ... 6.1729399e-09\n",
      "  4.3998761e-14 6.3147215e-10]\n",
      " [1.7825952e-09 2.2205086e-08 9.1826379e-01 ... 9.0937806e-07\n",
      "  8.6150004e-11 7.3969669e-10]\n",
      " ...\n",
      " [2.8189809e-18 1.5388316e-21 1.2479288e-15 ... 1.0000000e+00\n",
      "  1.3777396e-11 9.0694910e-11]\n",
      " [1.4432225e-17 3.0081788e-22 1.9112026e-15 ... 9.9999714e-01\n",
      "  4.9819869e-14 2.2494682e-13]\n",
      " [2.1093344e-22 9.6711625e-25 2.6789655e-17 ... 1.0000000e+00\n",
      "  2.4907382e-14 2.2862739e-15]]\n",
      "(33, 38)\n",
      "[ 2  2  2  2 13  0 20  8  8  8 20 20 20 20 20 22 22 29 29 29 29 29 29 37\n",
      " 37 37 37 35 35 35 35 35 35]\n"
     ]
    }
   ],
   "source": [
    "predictions = model.predict(test_set)\n",
    "print(predictions)\n",
    "print(predictions.shape)\n",
    "predicted_indices = np.argmax(predictions, axis=1)\n",
    "print(predicted_indices)"
   ]
  },
  {
   "cell_type": "code",
   "execution_count": 17,
   "metadata": {
    "colab": {
     "base_uri": "https://localhost:8080/"
    },
    "executionInfo": {
     "elapsed": 25,
     "status": "ok",
     "timestamp": 1747115411990,
     "user": {
      "displayName": "Goutam",
      "userId": "01809531300969818971"
     },
     "user_tz": -300
    },
    "id": "JO8CPmGdTBpA",
    "outputId": "750663a5-d22a-4136-a58b-c662a6d34416"
   },
   "outputs": [
    {
     "data": {
      "text/plain": [
       "['Apple___Cedar_apple_rust',\n",
       " 'Apple___Cedar_apple_rust',\n",
       " 'Apple___Cedar_apple_rust',\n",
       " 'Apple___Cedar_apple_rust',\n",
       " 'Grape___Leaf_blight_(Isariopsis_Leaf_Spot)',\n",
       " 'Apple___Apple_scab',\n",
       " 'Potato___Early_blight',\n",
       " 'Corn_(maize)___Common_rust_',\n",
       " 'Corn_(maize)___Common_rust_',\n",
       " 'Corn_(maize)___Common_rust_',\n",
       " 'Potato___Early_blight',\n",
       " 'Potato___Early_blight',\n",
       " 'Potato___Early_blight',\n",
       " 'Potato___Early_blight',\n",
       " 'Potato___Early_blight',\n",
       " 'Potato___healthy',\n",
       " 'Potato___healthy',\n",
       " 'Tomato___Early_blight',\n",
       " 'Tomato___Early_blight',\n",
       " 'Tomato___Early_blight',\n",
       " 'Tomato___Early_blight',\n",
       " 'Tomato___Early_blight',\n",
       " 'Tomato___Early_blight',\n",
       " 'Tomato___healthy',\n",
       " 'Tomato___healthy',\n",
       " 'Tomato___healthy',\n",
       " 'Tomato___healthy',\n",
       " 'Tomato___Tomato_Yellow_Leaf_Curl_Virus',\n",
       " 'Tomato___Tomato_Yellow_Leaf_Curl_Virus',\n",
       " 'Tomato___Tomato_Yellow_Leaf_Curl_Virus',\n",
       " 'Tomato___Tomato_Yellow_Leaf_Curl_Virus',\n",
       " 'Tomato___Tomato_Yellow_Leaf_Curl_Virus',\n",
       " 'Tomato___Tomato_Yellow_Leaf_Curl_Virus']"
      ]
     },
     "execution_count": 17,
     "metadata": {},
     "output_type": "execute_result"
    }
   ],
   "source": [
    "predicted_labels = [class_names[i] for i in predicted_indices]\n",
    "predicted_labels"
   ]
  },
  {
   "cell_type": "code",
   "execution_count": 18,
   "metadata": {
    "colab": {
     "base_uri": "https://localhost:8080/"
    },
    "executionInfo": {
     "elapsed": 19,
     "status": "ok",
     "timestamp": 1747115412011,
     "user": {
      "displayName": "Goutam",
      "userId": "01809531300969818971"
     },
     "user_tz": -300
    },
    "id": "GOGD8JjMT7Wc",
    "outputId": "b57e7043-aa67-42fe-abfb-31cff9ef2638"
   },
   "outputs": [
    {
     "name": "stdout",
     "output_type": "stream",
     "text": [
      "['Apple___Cedar_apple_rust', 'Apple___Cedar_apple_rust', 'Apple___Cedar_apple_rust', 'Apple___Cedar_apple_rust', 'Apple___Apple_scab', 'Apple___Apple_scab', 'Apple___Apple_scab', 'Corn_(maize)___Common_rust_', 'Corn_(maize)___Common_rust_', 'Corn_(maize)___Common_rust_', 'Potato___Early_blight', 'Potato___Early_blight', 'Potato___Early_blight', 'Potato___Early_blight', 'Potato___Early_blight', 'Potato___healthy', 'Potato___healthy', 'Tomato___Early_blight', 'Tomato___Early_blight', 'Tomato___Early_blight', 'Tomato___Early_blight', 'Tomato___Early_blight', 'Tomato___Early_blight', 'Tomato___healthy', 'Tomato___healthy', 'Tomato___healthy', 'Tomato___healthy', 'Tomato___Tomato_Yellow_Leaf_Curl_Virus', 'Tomato___Tomato_Yellow_Leaf_Curl_Virus', 'Tomato___Tomato_Yellow_Leaf_Curl_Virus', 'Tomato___Tomato_Yellow_Leaf_Curl_Virus', 'Tomato___Tomato_Yellow_Leaf_Curl_Virus', 'Tomato___Tomato_Yellow_Leaf_Curl_Virus']\n",
      "[ 2  2  2  2  0  0  0  8  8  8 20 20 20 20 20 22 22 29 29 29 29 29 29 37\n",
      " 37 37 37 35 35 35 35 35 35]\n",
      "(33,)\n",
      "(33,)\n"
     ]
    }
   ],
   "source": [
    "import os\n",
    "import re\n",
    "\n",
    "\n",
    "prefix_to_class = {\n",
    "    \"AppleCedarRust\":    \"Apple___Cedar_apple_rust\",\n",
    "    \"AppleScab\":         \"Apple___Apple_scab\",\n",
    "    \"CornCommonRust\":    \"Corn_(maize)___Common_rust_\",\n",
    "    \"PotatoEarlyBlight\": \"Potato___Early_blight\",\n",
    "    \"PotatoHealthy\":     \"Potato___healthy\",\n",
    "    \"TomatoEarlyBlight\": \"Tomato___Early_blight\",\n",
    "    \"TomatoHealthy\":     \"Tomato___healthy\",\n",
    "    \"TomatoYellowCurlVirus\": \"Tomato___Tomato_Yellow_Leaf_Curl_Virus\"\n",
    "}\n",
    "\n",
    "true_labels_list = []\n",
    "for p in file_paths:\n",
    "    stem = os.path.splitext(os.path.basename(p))[0]    # e.g. \"AppleCedarRust1\"\n",
    "    prefix = re.sub(r\"\\d+$\", \"\", stem)                 # → \"AppleCedarRust\"\n",
    "    true_labels_list.append(prefix_to_class[prefix])\n",
    "\n",
    "print(true_labels_list)\n",
    "\n",
    "true_indices = np.array([class_names.index(lbl) for lbl in true_labels_list])\n",
    "print(true_indices)\n",
    "\n",
    "\n",
    "print(true_indices.shape)\n",
    "print(predicted_indices.shape)"
   ]
  },
  {
   "cell_type": "code",
   "execution_count": 19,
   "metadata": {
    "colab": {
     "base_uri": "https://localhost:8080/"
    },
    "executionInfo": {
     "elapsed": 522,
     "status": "ok",
     "timestamp": 1747115412613,
     "user": {
      "displayName": "Goutam",
      "userId": "01809531300969818971"
     },
     "user_tz": -300
    },
    "id": "vuSz7_laad0i",
    "outputId": "798329a2-f4ef-4df9-ac70-3d54b0976212"
   },
   "outputs": [
    {
     "name": "stdout",
     "output_type": "stream",
     "text": [
      "Test accuracy: 0.9394   (31/33 correct)\n",
      "                                        precision    recall  f1-score   support\n",
      "\n",
      "                    Apple___Apple_scab       1.00      0.33      0.50         3\n",
      "              Apple___Cedar_apple_rust       1.00      1.00      1.00         4\n",
      "           Corn_(maize)___Common_rust_       1.00      1.00      1.00         3\n",
      "                 Potato___Early_blight       0.83      1.00      0.91         5\n",
      "                      Potato___healthy       1.00      1.00      1.00         2\n",
      "                 Tomato___Early_blight       1.00      1.00      1.00         6\n",
      "Tomato___Tomato_Yellow_Leaf_Curl_Virus       1.00      1.00      1.00         6\n",
      "                      Tomato___healthy       1.00      1.00      1.00         4\n",
      "\n",
      "                             micro avg       0.97      0.94      0.95        33\n",
      "                             macro avg       0.98      0.92      0.93        33\n",
      "                          weighted avg       0.97      0.94      0.94        33\n",
      "\n"
     ]
    }
   ],
   "source": [
    "from sklearn.metrics import accuracy_score, classification_report\n",
    "\n",
    "\n",
    "\n",
    "present_labels = sorted(np.unique(true_indices))\n",
    "present_names  = [validation_set.class_names[i] for i in present_labels]\n",
    "\n",
    "\n",
    "accuracy = accuracy_score(true_indices, predicted_indices)\n",
    "num_correct = int((predicted_indices == true_indices).sum())\n",
    "total = len(true_indices)\n",
    "print(f\"Test accuracy: {accuracy:.4f}   ({num_correct}/{total} correct)\")\n",
    "\n",
    "print(classification_report(\n",
    "    true_indices,\n",
    "    predicted_indices,\n",
    "    labels=present_labels,\n",
    "    target_names=present_names,\n",
    "    zero_division=0\n",
    "))\n"
   ]
  },
  {
   "cell_type": "code",
   "execution_count": 20,
   "metadata": {
    "colab": {
     "base_uri": "https://localhost:8080/",
     "height": 1000
    },
    "executionInfo": {
     "elapsed": 2013,
     "status": "ok",
     "timestamp": 1747115495585,
     "user": {
      "displayName": "Goutam",
      "userId": "01809531300969818971"
     },
     "user_tz": -300
    },
    "id": "PXo9PiAOMYPt",
    "outputId": "ce00189b-639b-403d-a4b2-c28ad69e57d1"
   },
   "outputs": [
    {
     "data": {
      "image/png": "[encoded data removed]",
      "text/plain": [
       "<Figure size 1200x1000 with 2 Axes>"
      ]
     },
     "metadata": {},
     "output_type": "display_data"
    }
   ],
   "source": [
    "import seaborn as sns\n",
    "from sklearn.metrics import confusion_matrix\n",
    "\n",
    "# Compute confusion matrix\n",
    "cm = confusion_matrix(true_indices, predicted_indices, labels=present_labels)\n",
    "\n",
    "# Plot confusion matrix as heatmap\n",
    "plt.figure(figsize=(12, 10))\n",
    "sns.heatmap(cm, annot=True, fmt='d', cmap='Blues',\n",
    "            xticklabels=present_names, yticklabels=present_names)\n",
    "plt.xlabel('Predicted Label')\n",
    "plt.ylabel('True Label')\n",
    "plt.title('Confusion Matrix')\n",
    "plt.xticks(rotation=90)\n",
    "plt.yticks(rotation=0)\n",
    "plt.tight_layout()\n",
    "plt.show()"
   ]
  }
 ],
 "metadata": {
  "accelerator": "GPU",
  "colab": {
   "gpuType": "T4",
   "provenance": []
  },
  "kernelspec": {
   "display_name": "venv",
   "language": "python",
   "name": "python3"
  },
  "language_info": {
   "name": "python",
   "version": "3.12.6"
  }
 },
 "nbformat": 4,
 "nbformat_minor": 0
}
